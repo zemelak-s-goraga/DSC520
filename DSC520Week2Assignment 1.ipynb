{
 "cells": [
  {
   "cell_type": "markdown",
   "id": "d008dbb2-7f9e-4b8b-a33b-ce628dbe0813",
   "metadata": {},
   "source": [
    "DSC 520 Week2\n",
    "Assignment: ASSIGNMENT 1\n",
    "Name: Goraga, Zemelak\n",
    "Date: 2023-12-09"
   ]
  },
  {
   "cell_type": "code",
   "execution_count": 1,
   "id": "dafbcbf3-e82e-4f28-84ff-c8eadf3660dd",
   "metadata": {
    "tags": []
   },
   "outputs": [
    {
     "name": "stdout",
     "output_type": "stream",
     "text": [
      "[1] 3 2 1\n"
     ]
    }
   ],
   "source": [
    "## Create a numeric vector with the values of 3, 2, 1 using the `c()` function\n",
    "## Assign the value to a variable named `num_vector`\n",
    "## Print the vector\n",
    "num_vector <- c(3, 2, 1)\n",
    "print(num_vector)"
   ]
  },
  {
   "cell_type": "code",
   "execution_count": 2,
   "id": "3704b96e-6401-4b3b-864f-ffe119e9ace5",
   "metadata": {
    "tags": []
   },
   "outputs": [
    {
     "name": "stdout",
     "output_type": "stream",
     "text": [
      "[1] \"three\" \"two\"   \"one\"  \n"
     ]
    }
   ],
   "source": [
    "## Create a character vector with the values of \"three\", \"two\", \"one\" \"using the `c()` function\n",
    "## Assign the value to a variable named `char_vector`\n",
    "## Print the vector\n",
    "char_vector <- c(\"three\", \"two\", \"one\")\n",
    "print(char_vector)"
   ]
  },
  {
   "cell_type": "code",
   "execution_count": 4,
   "id": "1ca99676-aa29-4d53-8c5f-9cfcc74f3bcf",
   "metadata": {
    "tags": []
   },
   "outputs": [],
   "source": [
    "## Create a vector called `week1_sleep` representing how many hours slept each night of the week\n",
    "## Use the values 6.1, 8.8, 7.7, 6.4, 6.2, 6.9, 6.6\n",
    "week1_sleep <- c(6.1, 8.8, 7.7, 6.4, 6.2, 6.9, 6.6)"
   ]
  },
  {
   "cell_type": "code",
   "execution_count": 5,
   "id": "5aa8b9f0-32c3-4923-8beb-f1db04a2dde4",
   "metadata": {
    "tags": []
   },
   "outputs": [
    {
     "name": "stdout",
     "output_type": "stream",
     "text": [
      "[1] 7.7\n"
     ]
    }
   ],
   "source": [
    "## Display the amount of sleep on Tuesday of week 1 by selecting the variable index\n",
    "print(week1_sleep[3])"
   ]
  },
  {
   "cell_type": "code",
   "execution_count": 6,
   "id": "b6ca185b-85d1-4445-91c6-70ad8a0dbbc2",
   "metadata": {
    "tags": []
   },
   "outputs": [],
   "source": [
    "## Create a vector called `week1_sleep_weekdays`\n",
    "## Assign the weekday values using indice slicing\n",
    "week1_sleep_weekdays <- week1_sleep[1:5]"
   ]
  },
  {
   "cell_type": "code",
   "execution_count": 7,
   "id": "54febc0d-821e-4c94-b00e-a120a3c5f863",
   "metadata": {
    "tags": []
   },
   "outputs": [],
   "source": [
    "## Add the total hours slept in week one using the `sum` function\n",
    "## Assign the value to variable `total_sleep_week1`\n",
    "total_sleep_week1 <- sum(week1_sleep)"
   ]
  },
  {
   "cell_type": "code",
   "execution_count": 8,
   "id": "2c1e2a4e-6125-41d2-8bfa-a1aaf838a7d1",
   "metadata": {
    "tags": []
   },
   "outputs": [],
   "source": [
    "## Create a vector called `week2_sleep` representing how many hours slept each night of the week\n",
    "## Use the values 7.1, 7.4, 7.9, 6.5, 8.1, 8.2, 8.9\n",
    "week2_sleep <- c(7.1, 7.4, 7.9, 6.5, 8.1, 8.2, 8.9)"
   ]
  },
  {
   "cell_type": "code",
   "execution_count": 9,
   "id": "b3dddc6c-cb5c-43ce-bb66-62bc90be81b6",
   "metadata": {
    "tags": []
   },
   "outputs": [],
   "source": [
    "## Add the total hours slept in week two using the sum function\n",
    "## Assign the value to variable `total_sleep_week2`\n",
    "total_sleep_week2 <- sum(week2_sleep)"
   ]
  },
  {
   "cell_type": "code",
   "execution_count": 10,
   "id": "ec9306c2-3928-4882-9675-1b5d96d0ec6c",
   "metadata": {
    "tags": []
   },
   "outputs": [
    {
     "data": {
      "text/html": [
       "TRUE"
      ],
      "text/latex": [
       "TRUE"
      ],
      "text/markdown": [
       "TRUE"
      ],
      "text/plain": [
       "[1] TRUE"
      ]
     },
     "metadata": {},
     "output_type": "display_data"
    }
   ],
   "source": [
    "## Determine if the total sleep in week 1 is less than week 2 by using the < operator\n",
    "total_sleep_week1 < total_sleep_week2"
   ]
  },
  {
   "cell_type": "code",
   "execution_count": 11,
   "id": "8f0b95e0-d542-4ba9-adfc-321d011e640e",
   "metadata": {
    "tags": []
   },
   "outputs": [
    {
     "data": {
      "text/html": [
       "6.95714285714286"
      ],
      "text/latex": [
       "6.95714285714286"
      ],
      "text/markdown": [
       "6.95714285714286"
      ],
      "text/plain": [
       "[1] 6.957143"
      ]
     },
     "metadata": {},
     "output_type": "display_data"
    }
   ],
   "source": [
    "## Calculate the mean hours slept in week 1 using the `mean()` function\n",
    "mean(week1_sleep)"
   ]
  },
  {
   "cell_type": "code",
   "execution_count": 12,
   "id": "51a5c39d-6c9c-45c3-b9be-b6123fa0a4b8",
   "metadata": {
    "tags": []
   },
   "outputs": [],
   "source": [
    "## Create a vector called `days` containing the days of the week.\n",
    "## Start with Sunday and end with Saturday\n",
    "days <- c(\"Sunday\", \"Monday\", \"Tuesday\", \"Wednesday\", \"Thursday\", \"Friday\", \"Saturday\")"
   ]
  },
  {
   "cell_type": "code",
   "execution_count": 13,
   "id": "6ffe91b1-5594-4633-9468-4a47830d0f28",
   "metadata": {
    "tags": []
   },
   "outputs": [],
   "source": [
    "## Assign the names of each day to `week1_sleep` and `week2_sleep` using the `names` function and `days` vector\n",
    "names(week1_sleep) <- days\n",
    "names(week2_sleep) <- days"
   ]
  },
  {
   "cell_type": "code",
   "execution_count": 14,
   "id": "13df9e12-00cc-44ca-9ecb-7474fb70a935",
   "metadata": {
    "tags": []
   },
   "outputs": [
    {
     "name": "stdout",
     "output_type": "stream",
     "text": [
      "Tuesday \n",
      "    7.7 \n"
     ]
    }
   ],
   "source": [
    "\n",
    "## Display the amount of sleep on Tuesday of week 1 by selecting the variable name\n",
    "print(week1_sleep[\"Tuesday\"])"
   ]
  },
  {
   "cell_type": "code",
   "execution_count": 15,
   "id": "d3005ef4-81cc-476c-b730-c221766ec95d",
   "metadata": {
    "tags": []
   },
   "outputs": [],
   "source": [
    "## Create vector called `weekdays` from the days vector\n",
    "weekdays <- days[2:6]"
   ]
  },
  {
   "cell_type": "code",
   "execution_count": 17,
   "id": "0e9a94a7-24b7-4511-ba62-04125759045c",
   "metadata": {
    "tags": []
   },
   "outputs": [],
   "source": [
    "## Create vector called `weekends` containing Sunday and Saturday\n",
    "weekends <- c(\"Sunday\", \"Saturday\")"
   ]
  },
  {
   "cell_type": "code",
   "execution_count": 18,
   "id": "73cb92b9-ea3e-48b7-ba5c-d96a429e0fa2",
   "metadata": {
    "tags": []
   },
   "outputs": [],
   "source": [
    "## Calculate the mean about sleep on weekdays for each week\n",
    "## Assign the values to `weekdays1_mean` and `weekdays2_mean`\n",
    "weekdays1_mean <- mean(week1_sleep[weekdays])\n",
    "weekdays2_mean <- mean(week2_sleep[weekdays])\n"
   ]
  },
  {
   "cell_type": "code",
   "execution_count": 19,
   "id": "f1c58c9e-575e-41c9-87f5-c8e621226313",
   "metadata": {
    "tags": []
   },
   "outputs": [
    {
     "data": {
      "text/html": [
       "FALSE"
      ],
      "text/latex": [
       "FALSE"
      ],
      "text/markdown": [
       "FALSE"
      ],
      "text/plain": [
       "[1] FALSE"
      ]
     },
     "metadata": {},
     "output_type": "display_data"
    }
   ],
   "source": [
    "## Using the `weekdays1_mean` and `weekdays2_mean` variables,\n",
    "## see if `weekdays1_mean` is greater than `weekdays2_mean` using the `>` operator\n",
    "weekdays1_mean > weekdays2_mean"
   ]
  },
  {
   "cell_type": "code",
   "execution_count": 20,
   "id": "217271db-0eef-4fba-9884-83a385074243",
   "metadata": {
    "tags": []
   },
   "outputs": [
    {
     "data": {
      "text/html": [
       "1"
      ],
      "text/latex": [
       "1"
      ],
      "text/markdown": [
       "1"
      ],
      "text/plain": [
       "[1] 1"
      ]
     },
     "metadata": {},
     "output_type": "display_data"
    }
   ],
   "source": [
    "## Determine how many days in week 1 had over 8 hours of sleep using the `>` operator\n",
    "sum(week1_sleep > 8)"
   ]
  },
  {
   "cell_type": "code",
   "execution_count": 21,
   "id": "337327da-6d38-4d8f-8ff4-7fdbcd93ff1f",
   "metadata": {
    "tags": []
   },
   "outputs": [],
   "source": [
    "## Create a matrix from the following three vectors\n",
    "student01 <- c(100.0, 87.1)\n",
    "student02 <- c(77.2, 88.9)\n",
    "student03 <- c(66.3, 87.9)\n",
    "\n",
    "students_combined <- c(student01, student02, student03)\n",
    "grades <- matrix(students_combined, byrow = TRUE, nrow = 3)"
   ]
  },
  {
   "cell_type": "code",
   "execution_count": 22,
   "id": "bb6f7feb-4451-4161-8ec1-80ca58ca3040",
   "metadata": {
    "tags": []
   },
   "outputs": [],
   "source": [
    "## Add a new student row with `rbind()`\n",
    "student04 <- c(95.2, 94.1)\n",
    "grades <- rbind(grades, student04)"
   ]
  },
  {
   "cell_type": "code",
   "execution_count": 23,
   "id": "a03449e5-8623-4426-bc1e-13b05d1fc68a",
   "metadata": {
    "tags": []
   },
   "outputs": [],
   "source": [
    "## Add a new assignment column with `cbind()`\n",
    "assignment04 <- c(92.1, 84.3, 75.1, 97.8)\n",
    "grades <- cbind(grades, assignment04)"
   ]
  },
  {
   "cell_type": "code",
   "execution_count": 24,
   "id": "560cefa0-056e-439a-9b66-19f205e1c843",
   "metadata": {
    "tags": []
   },
   "outputs": [],
   "source": [
    "## Add the following names to columns and rows using `rownames()` and `colnames()`\n",
    "assignments <- c(\"Assignment 1\", \"Assignment 2\", \"Assignment 3\")\n",
    "students <- c(\"Florinda Baird\", \"Jinny Foss\", \"Lou Purvis\", \"Nola Maloney\")\n",
    "rownames(grades) <- students\n",
    "colnames(grades) <- assignments"
   ]
  },
  {
   "cell_type": "code",
   "execution_count": 25,
   "id": "eed25d57-5549-4892-9717-98d28a7ce002",
   "metadata": {
    "tags": []
   },
   "outputs": [
    {
     "data": {
      "text/html": [
       "<style>\n",
       ".dl-inline {width: auto; margin:0; padding: 0}\n",
       ".dl-inline>dt, .dl-inline>dd {float: none; width: auto; display: inline-block}\n",
       ".dl-inline>dt::after {content: \":\\0020\"; padding-right: .5ex}\n",
       ".dl-inline>dt:not(:first-of-type) {padding-left: .5ex}\n",
       "</style><dl class=dl-inline><dt>Assignment 1</dt><dd>338.7</dd><dt>Assignment 2</dt><dd>358</dd><dt>Assignment 3</dt><dd>349.3</dd></dl>\n"
      ],
      "text/latex": [
       "\\begin{description*}\n",
       "\\item[Assignment 1] 338.7\n",
       "\\item[Assignment 2] 358\n",
       "\\item[Assignment 3] 349.3\n",
       "\\end{description*}\n"
      ],
      "text/markdown": [
       "Assignment 1\n",
       ":   338.7Assignment 2\n",
       ":   358Assignment 3\n",
       ":   349.3\n",
       "\n"
      ],
      "text/plain": [
       "Assignment 1 Assignment 2 Assignment 3 \n",
       "       338.7        358.0        349.3 "
      ]
     },
     "metadata": {},
     "output_type": "display_data"
    }
   ],
   "source": [
    "## Total points for each assignment using `colSums()`\n",
    "colSums(grades)\n"
   ]
  },
  {
   "cell_type": "code",
   "execution_count": 26,
   "id": "018858aa-7dd8-43d3-b456-856d02164959",
   "metadata": {
    "tags": []
   },
   "outputs": [
    {
     "data": {
      "text/html": [
       "<style>\n",
       ".dl-inline {width: auto; margin:0; padding: 0}\n",
       ".dl-inline>dt, .dl-inline>dd {float: none; width: auto; display: inline-block}\n",
       ".dl-inline>dt::after {content: \":\\0020\"; padding-right: .5ex}\n",
       ".dl-inline>dt:not(:first-of-type) {padding-left: .5ex}\n",
       "</style><dl class=dl-inline><dt>Florinda Baird</dt><dd>279.2</dd><dt>Jinny Foss</dt><dd>250.4</dd><dt>Lou Purvis</dt><dd>229.3</dd><dt>Nola Maloney</dt><dd>287.1</dd></dl>\n"
      ],
      "text/latex": [
       "\\begin{description*}\n",
       "\\item[Florinda Baird] 279.2\n",
       "\\item[Jinny Foss] 250.4\n",
       "\\item[Lou Purvis] 229.3\n",
       "\\item[Nola Maloney] 287.1\n",
       "\\end{description*}\n"
      ],
      "text/markdown": [
       "Florinda Baird\n",
       ":   279.2Jinny Foss\n",
       ":   250.4Lou Purvis\n",
       ":   229.3Nola Maloney\n",
       ":   287.1\n",
       "\n"
      ],
      "text/plain": [
       "Florinda Baird     Jinny Foss     Lou Purvis   Nola Maloney \n",
       "         279.2          250.4          229.3          287.1 "
      ]
     },
     "metadata": {},
     "output_type": "display_data"
    }
   ],
   "source": [
    "## Total points for each student using `rowSums()`\n",
    "rowSums(grades)"
   ]
  },
  {
   "cell_type": "code",
   "execution_count": 27,
   "id": "bdeb11ee-6513-4fb2-aca3-812791baba2a",
   "metadata": {
    "tags": []
   },
   "outputs": [],
   "source": [
    "## Matrix with 10% and add it to grades\n",
    "weighted_grades <- grades * 0.1 + grades"
   ]
  },
  {
   "cell_type": "code",
   "execution_count": 28,
   "id": "26d19a81-e9b5-4873-a74e-1ef80c8631ef",
   "metadata": {
    "tags": []
   },
   "outputs": [],
   "source": [
    "\n",
    "## Create a factor of book genres using the genres_vector\n",
    "## Assign the factor vector to `factor_genre_vector`\n",
    "genres_vector <- c(\"Fantasy\", \"Sci-Fi\", \"Sci-Fi\", \"Mystery\", \"Sci-Fi\", \"Fantasy\")\n",
    "factor_genre_vector <- factor(genres_vector)"
   ]
  },
  {
   "cell_type": "code",
   "execution_count": 29,
   "id": "1084dae6-0752-4480-87c8-26a1234be71a",
   "metadata": {
    "tags": []
   },
   "outputs": [
    {
     "data": {
      "text/html": [
       "<style>\n",
       ".dl-inline {width: auto; margin:0; padding: 0}\n",
       ".dl-inline>dt, .dl-inline>dd {float: none; width: auto; display: inline-block}\n",
       ".dl-inline>dt::after {content: \":\\0020\"; padding-right: .5ex}\n",
       ".dl-inline>dt:not(:first-of-type) {padding-left: .5ex}\n",
       "</style><dl class=dl-inline><dt>Fantasy</dt><dd>2</dd><dt>Mystery</dt><dd>1</dd><dt>Sci-Fi</dt><dd>3</dd></dl>\n"
      ],
      "text/latex": [
       "\\begin{description*}\n",
       "\\item[Fantasy] 2\n",
       "\\item[Mystery] 1\n",
       "\\item[Sci-Fi] 3\n",
       "\\end{description*}\n"
      ],
      "text/markdown": [
       "Fantasy\n",
       ":   2Mystery\n",
       ":   1Sci-Fi\n",
       ":   3\n",
       "\n"
      ],
      "text/plain": [
       "Fantasy Mystery  Sci-Fi \n",
       "      2       1       3 "
      ]
     },
     "metadata": {},
     "output_type": "display_data"
    }
   ],
   "source": [
    "## Use the `summary()` function to print a summary of `factor_genre_vector`\n",
    "summary(factor_genre_vector)"
   ]
  },
  {
   "cell_type": "code",
   "execution_count": 30,
   "id": "cff8ddb4-a65a-4fa3-bde7-3f1a94163d01",
   "metadata": {
    "tags": []
   },
   "outputs": [],
   "source": [
    "## Create ordered factor of book recommendations using the recommendations_vector\n",
    "## `no` is the lowest and `yes` is the highest\n",
    "recommendations_vector <- c(\"neutral\", \"no\", \"no\", \"neutral\", \"yes\")\n",
    "factor_recommendations_vector <- factor(\n",
    "  recommendations_vector,\n",
    "  ordered = TRUE,\n",
    "  levels = c(\"no\", \"neutral\", \"yes\")\n",
    ")"
   ]
  },
  {
   "cell_type": "code",
   "execution_count": 31,
   "id": "eff1de55-e0e8-408d-ac15-0aaf2579abf8",
   "metadata": {
    "tags": []
   },
   "outputs": [
    {
     "data": {
      "text/html": [
       "<style>\n",
       ".dl-inline {width: auto; margin:0; padding: 0}\n",
       ".dl-inline>dt, .dl-inline>dd {float: none; width: auto; display: inline-block}\n",
       ".dl-inline>dt::after {content: \":\\0020\"; padding-right: .5ex}\n",
       ".dl-inline>dt:not(:first-of-type) {padding-left: .5ex}\n",
       "</style><dl class=dl-inline><dt>no</dt><dd>2</dd><dt>neutral</dt><dd>2</dd><dt>yes</dt><dd>1</dd></dl>\n"
      ],
      "text/latex": [
       "\\begin{description*}\n",
       "\\item[no] 2\n",
       "\\item[neutral] 2\n",
       "\\item[yes] 1\n",
       "\\end{description*}\n"
      ],
      "text/markdown": [
       "no\n",
       ":   2neutral\n",
       ":   2yes\n",
       ":   1\n",
       "\n"
      ],
      "text/plain": [
       "     no neutral     yes \n",
       "      2       2       1 "
      ]
     },
     "metadata": {},
     "output_type": "display_data"
    }
   ],
   "source": [
    "## Use the `summary()` function to print a summary of `factor_recommendations_vector`\n",
    "summary(factor_recommendations_vector)"
   ]
  },
  {
   "cell_type": "code",
   "execution_count": 32,
   "id": "165e0737-d608-4fbe-9d41-7ad316a8bcfb",
   "metadata": {
    "tags": []
   },
   "outputs": [
    {
     "data": {
      "text/html": [
       "<table>\n",
       "<caption>A data.frame: 6 × 11</caption>\n",
       "<thead>\n",
       "\t<tr><th></th><th scope=col>mpg</th><th scope=col>cyl</th><th scope=col>disp</th><th scope=col>hp</th><th scope=col>drat</th><th scope=col>wt</th><th scope=col>qsec</th><th scope=col>vs</th><th scope=col>am</th><th scope=col>gear</th><th scope=col>carb</th></tr>\n",
       "\t<tr><th></th><th scope=col>&lt;dbl&gt;</th><th scope=col>&lt;dbl&gt;</th><th scope=col>&lt;dbl&gt;</th><th scope=col>&lt;dbl&gt;</th><th scope=col>&lt;dbl&gt;</th><th scope=col>&lt;dbl&gt;</th><th scope=col>&lt;dbl&gt;</th><th scope=col>&lt;dbl&gt;</th><th scope=col>&lt;dbl&gt;</th><th scope=col>&lt;dbl&gt;</th><th scope=col>&lt;dbl&gt;</th></tr>\n",
       "</thead>\n",
       "<tbody>\n",
       "\t<tr><th scope=row>Mazda RX4</th><td>21.0</td><td>6</td><td>160</td><td>110</td><td>3.90</td><td>2.620</td><td>16.46</td><td>0</td><td>1</td><td>4</td><td>4</td></tr>\n",
       "\t<tr><th scope=row>Mazda RX4 Wag</th><td>21.0</td><td>6</td><td>160</td><td>110</td><td>3.90</td><td>2.875</td><td>17.02</td><td>0</td><td>1</td><td>4</td><td>4</td></tr>\n",
       "\t<tr><th scope=row>Datsun 710</th><td>22.8</td><td>4</td><td>108</td><td> 93</td><td>3.85</td><td>2.320</td><td>18.61</td><td>1</td><td>1</td><td>4</td><td>1</td></tr>\n",
       "\t<tr><th scope=row>Hornet 4 Drive</th><td>21.4</td><td>6</td><td>258</td><td>110</td><td>3.08</td><td>3.215</td><td>19.44</td><td>1</td><td>0</td><td>3</td><td>1</td></tr>\n",
       "\t<tr><th scope=row>Hornet Sportabout</th><td>18.7</td><td>8</td><td>360</td><td>175</td><td>3.15</td><td>3.440</td><td>17.02</td><td>0</td><td>0</td><td>3</td><td>2</td></tr>\n",
       "\t<tr><th scope=row>Valiant</th><td>18.1</td><td>6</td><td>225</td><td>105</td><td>2.76</td><td>3.460</td><td>20.22</td><td>1</td><td>0</td><td>3</td><td>1</td></tr>\n",
       "</tbody>\n",
       "</table>\n"
      ],
      "text/latex": [
       "A data.frame: 6 × 11\n",
       "\\begin{tabular}{r|lllllllllll}\n",
       "  & mpg & cyl & disp & hp & drat & wt & qsec & vs & am & gear & carb\\\\\n",
       "  & <dbl> & <dbl> & <dbl> & <dbl> & <dbl> & <dbl> & <dbl> & <dbl> & <dbl> & <dbl> & <dbl>\\\\\n",
       "\\hline\n",
       "\tMazda RX4 & 21.0 & 6 & 160 & 110 & 3.90 & 2.620 & 16.46 & 0 & 1 & 4 & 4\\\\\n",
       "\tMazda RX4 Wag & 21.0 & 6 & 160 & 110 & 3.90 & 2.875 & 17.02 & 0 & 1 & 4 & 4\\\\\n",
       "\tDatsun 710 & 22.8 & 4 & 108 &  93 & 3.85 & 2.320 & 18.61 & 1 & 1 & 4 & 1\\\\\n",
       "\tHornet 4 Drive & 21.4 & 6 & 258 & 110 & 3.08 & 3.215 & 19.44 & 1 & 0 & 3 & 1\\\\\n",
       "\tHornet Sportabout & 18.7 & 8 & 360 & 175 & 3.15 & 3.440 & 17.02 & 0 & 0 & 3 & 2\\\\\n",
       "\tValiant & 18.1 & 6 & 225 & 105 & 2.76 & 3.460 & 20.22 & 1 & 0 & 3 & 1\\\\\n",
       "\\end{tabular}\n"
      ],
      "text/markdown": [
       "\n",
       "A data.frame: 6 × 11\n",
       "\n",
       "| <!--/--> | mpg &lt;dbl&gt; | cyl &lt;dbl&gt; | disp &lt;dbl&gt; | hp &lt;dbl&gt; | drat &lt;dbl&gt; | wt &lt;dbl&gt; | qsec &lt;dbl&gt; | vs &lt;dbl&gt; | am &lt;dbl&gt; | gear &lt;dbl&gt; | carb &lt;dbl&gt; |\n",
       "|---|---|---|---|---|---|---|---|---|---|---|---|\n",
       "| Mazda RX4 | 21.0 | 6 | 160 | 110 | 3.90 | 2.620 | 16.46 | 0 | 1 | 4 | 4 |\n",
       "| Mazda RX4 Wag | 21.0 | 6 | 160 | 110 | 3.90 | 2.875 | 17.02 | 0 | 1 | 4 | 4 |\n",
       "| Datsun 710 | 22.8 | 4 | 108 |  93 | 3.85 | 2.320 | 18.61 | 1 | 1 | 4 | 1 |\n",
       "| Hornet 4 Drive | 21.4 | 6 | 258 | 110 | 3.08 | 3.215 | 19.44 | 1 | 0 | 3 | 1 |\n",
       "| Hornet Sportabout | 18.7 | 8 | 360 | 175 | 3.15 | 3.440 | 17.02 | 0 | 0 | 3 | 2 |\n",
       "| Valiant | 18.1 | 6 | 225 | 105 | 2.76 | 3.460 | 20.22 | 1 | 0 | 3 | 1 |\n",
       "\n"
      ],
      "text/plain": [
       "                  mpg  cyl disp hp  drat wt    qsec  vs am gear carb\n",
       "Mazda RX4         21.0 6   160  110 3.90 2.620 16.46 0  1  4    4   \n",
       "Mazda RX4 Wag     21.0 6   160  110 3.90 2.875 17.02 0  1  4    4   \n",
       "Datsun 710        22.8 4   108   93 3.85 2.320 18.61 1  1  4    1   \n",
       "Hornet 4 Drive    21.4 6   258  110 3.08 3.215 19.44 1  0  3    1   \n",
       "Hornet Sportabout 18.7 8   360  175 3.15 3.440 17.02 0  0  3    2   \n",
       "Valiant           18.1 6   225  105 2.76 3.460 20.22 1  0  3    1   "
      ]
     },
     "metadata": {},
     "output_type": "display_data"
    }
   ],
   "source": [
    "## Using the built-in `mtcars` dataset, view the first few rows using the `head()` function\n",
    "head(mtcars)"
   ]
  },
  {
   "cell_type": "code",
   "execution_count": 33,
   "id": "933c5839-6933-4a79-8afd-66e66ad73795",
   "metadata": {
    "tags": []
   },
   "outputs": [
    {
     "data": {
      "text/html": [
       "<table>\n",
       "<caption>A data.frame: 6 × 11</caption>\n",
       "<thead>\n",
       "\t<tr><th></th><th scope=col>mpg</th><th scope=col>cyl</th><th scope=col>disp</th><th scope=col>hp</th><th scope=col>drat</th><th scope=col>wt</th><th scope=col>qsec</th><th scope=col>vs</th><th scope=col>am</th><th scope=col>gear</th><th scope=col>carb</th></tr>\n",
       "\t<tr><th></th><th scope=col>&lt;dbl&gt;</th><th scope=col>&lt;dbl&gt;</th><th scope=col>&lt;dbl&gt;</th><th scope=col>&lt;dbl&gt;</th><th scope=col>&lt;dbl&gt;</th><th scope=col>&lt;dbl&gt;</th><th scope=col>&lt;dbl&gt;</th><th scope=col>&lt;dbl&gt;</th><th scope=col>&lt;dbl&gt;</th><th scope=col>&lt;dbl&gt;</th><th scope=col>&lt;dbl&gt;</th></tr>\n",
       "</thead>\n",
       "<tbody>\n",
       "\t<tr><th scope=row>Porsche 914-2</th><td>26.0</td><td>4</td><td>120.3</td><td> 91</td><td>4.43</td><td>2.140</td><td>16.7</td><td>0</td><td>1</td><td>5</td><td>2</td></tr>\n",
       "\t<tr><th scope=row>Lotus Europa</th><td>30.4</td><td>4</td><td> 95.1</td><td>113</td><td>3.77</td><td>1.513</td><td>16.9</td><td>1</td><td>1</td><td>5</td><td>2</td></tr>\n",
       "\t<tr><th scope=row>Ford Pantera L</th><td>15.8</td><td>8</td><td>351.0</td><td>264</td><td>4.22</td><td>3.170</td><td>14.5</td><td>0</td><td>1</td><td>5</td><td>4</td></tr>\n",
       "\t<tr><th scope=row>Ferrari Dino</th><td>19.7</td><td>6</td><td>145.0</td><td>175</td><td>3.62</td><td>2.770</td><td>15.5</td><td>0</td><td>1</td><td>5</td><td>6</td></tr>\n",
       "\t<tr><th scope=row>Maserati Bora</th><td>15.0</td><td>8</td><td>301.0</td><td>335</td><td>3.54</td><td>3.570</td><td>14.6</td><td>0</td><td>1</td><td>5</td><td>8</td></tr>\n",
       "\t<tr><th scope=row>Volvo 142E</th><td>21.4</td><td>4</td><td>121.0</td><td>109</td><td>4.11</td><td>2.780</td><td>18.6</td><td>1</td><td>1</td><td>4</td><td>2</td></tr>\n",
       "</tbody>\n",
       "</table>\n"
      ],
      "text/latex": [
       "A data.frame: 6 × 11\n",
       "\\begin{tabular}{r|lllllllllll}\n",
       "  & mpg & cyl & disp & hp & drat & wt & qsec & vs & am & gear & carb\\\\\n",
       "  & <dbl> & <dbl> & <dbl> & <dbl> & <dbl> & <dbl> & <dbl> & <dbl> & <dbl> & <dbl> & <dbl>\\\\\n",
       "\\hline\n",
       "\tPorsche 914-2 & 26.0 & 4 & 120.3 &  91 & 4.43 & 2.140 & 16.7 & 0 & 1 & 5 & 2\\\\\n",
       "\tLotus Europa & 30.4 & 4 &  95.1 & 113 & 3.77 & 1.513 & 16.9 & 1 & 1 & 5 & 2\\\\\n",
       "\tFord Pantera L & 15.8 & 8 & 351.0 & 264 & 4.22 & 3.170 & 14.5 & 0 & 1 & 5 & 4\\\\\n",
       "\tFerrari Dino & 19.7 & 6 & 145.0 & 175 & 3.62 & 2.770 & 15.5 & 0 & 1 & 5 & 6\\\\\n",
       "\tMaserati Bora & 15.0 & 8 & 301.0 & 335 & 3.54 & 3.570 & 14.6 & 0 & 1 & 5 & 8\\\\\n",
       "\tVolvo 142E & 21.4 & 4 & 121.0 & 109 & 4.11 & 2.780 & 18.6 & 1 & 1 & 4 & 2\\\\\n",
       "\\end{tabular}\n"
      ],
      "text/markdown": [
       "\n",
       "A data.frame: 6 × 11\n",
       "\n",
       "| <!--/--> | mpg &lt;dbl&gt; | cyl &lt;dbl&gt; | disp &lt;dbl&gt; | hp &lt;dbl&gt; | drat &lt;dbl&gt; | wt &lt;dbl&gt; | qsec &lt;dbl&gt; | vs &lt;dbl&gt; | am &lt;dbl&gt; | gear &lt;dbl&gt; | carb &lt;dbl&gt; |\n",
       "|---|---|---|---|---|---|---|---|---|---|---|---|\n",
       "| Porsche 914-2 | 26.0 | 4 | 120.3 |  91 | 4.43 | 2.140 | 16.7 | 0 | 1 | 5 | 2 |\n",
       "| Lotus Europa | 30.4 | 4 |  95.1 | 113 | 3.77 | 1.513 | 16.9 | 1 | 1 | 5 | 2 |\n",
       "| Ford Pantera L | 15.8 | 8 | 351.0 | 264 | 4.22 | 3.170 | 14.5 | 0 | 1 | 5 | 4 |\n",
       "| Ferrari Dino | 19.7 | 6 | 145.0 | 175 | 3.62 | 2.770 | 15.5 | 0 | 1 | 5 | 6 |\n",
       "| Maserati Bora | 15.0 | 8 | 301.0 | 335 | 3.54 | 3.570 | 14.6 | 0 | 1 | 5 | 8 |\n",
       "| Volvo 142E | 21.4 | 4 | 121.0 | 109 | 4.11 | 2.780 | 18.6 | 1 | 1 | 4 | 2 |\n",
       "\n"
      ],
      "text/plain": [
       "               mpg  cyl disp  hp  drat wt    qsec vs am gear carb\n",
       "Porsche 914-2  26.0 4   120.3  91 4.43 2.140 16.7 0  1  5    2   \n",
       "Lotus Europa   30.4 4    95.1 113 3.77 1.513 16.9 1  1  5    2   \n",
       "Ford Pantera L 15.8 8   351.0 264 4.22 3.170 14.5 0  1  5    4   \n",
       "Ferrari Dino   19.7 6   145.0 175 3.62 2.770 15.5 0  1  5    6   \n",
       "Maserati Bora  15.0 8   301.0 335 3.54 3.570 14.6 0  1  5    8   \n",
       "Volvo 142E     21.4 4   121.0 109 4.11 2.780 18.6 1  1  4    2   "
      ]
     },
     "metadata": {},
     "output_type": "display_data"
    }
   ],
   "source": [
    "## Using the built-in `mtcars` dataset, view the last few rows using the `tail()` function\n",
    "tail(mtcars)"
   ]
  },
  {
   "cell_type": "code",
   "execution_count": 34,
   "id": "1aa428f4-3d61-44ac-9bb0-f4dfc65fa632",
   "metadata": {
    "tags": []
   },
   "outputs": [],
   "source": [
    "## Create a dataframe called characters_df using the following information from LOTR\n",
    "name <- c(\"Aragon\", \"Bilbo\", \"Frodo\", \"Galadriel\", \"Sam\", \"Gandalf\", \"Legolas\", \"Sauron\", \"Gollum\")\n",
    "race <- c(\"Men\", \"Hobbit\", \"Hobbit\", \"Elf\", \"Hobbit\", \"Maia\", \"Elf\", \"Maia\", \"Hobbit\")\n",
    "in_fellowship <- c(TRUE, FALSE, TRUE, FALSE, TRUE, TRUE, TRUE, FALSE, FALSE)\n",
    "ring_bearer <- c(FALSE, TRUE, TRUE, FALSE, TRUE, TRUE, FALSE, TRUE, TRUE)\n",
    "age <- c(88, 129, 51, 7000, 36, 2019, 2931, 7052, 589)\n",
    "\n",
    "characters_df <- data.frame(name, race, in_fellowship, ring_bearer, age)"
   ]
  },
  {
   "cell_type": "code",
   "execution_count": 35,
   "id": "fa2a09b2-9f41-4c02-a125-b676264a14b3",
   "metadata": {
    "tags": []
   },
   "outputs": [],
   "source": [
    "## Sorting the characters_df by age using the order function and assign the result to the sorted_characters_df\n",
    "sorted_characters_df <- characters_df[order(characters_df$age),]"
   ]
  },
  {
   "cell_type": "code",
   "execution_count": 36,
   "id": "aa4f0868-d823-4b3a-923c-2f7c65086931",
   "metadata": {
    "tags": []
   },
   "outputs": [
    {
     "data": {
      "text/html": [
       "<table>\n",
       "<caption>A data.frame: 6 × 5</caption>\n",
       "<thead>\n",
       "\t<tr><th></th><th scope=col>name</th><th scope=col>race</th><th scope=col>in_fellowship</th><th scope=col>ring_bearer</th><th scope=col>age</th></tr>\n",
       "\t<tr><th></th><th scope=col>&lt;fct&gt;</th><th scope=col>&lt;fct&gt;</th><th scope=col>&lt;lgl&gt;</th><th scope=col>&lt;lgl&gt;</th><th scope=col>&lt;dbl&gt;</th></tr>\n",
       "</thead>\n",
       "<tbody>\n",
       "\t<tr><th scope=row>5</th><td>Sam    </td><td>Hobbit</td><td> TRUE</td><td> TRUE</td><td>  36</td></tr>\n",
       "\t<tr><th scope=row>3</th><td>Frodo  </td><td>Hobbit</td><td> TRUE</td><td> TRUE</td><td>  51</td></tr>\n",
       "\t<tr><th scope=row>1</th><td>Aragon </td><td>Men   </td><td> TRUE</td><td>FALSE</td><td>  88</td></tr>\n",
       "\t<tr><th scope=row>2</th><td>Bilbo  </td><td>Hobbit</td><td>FALSE</td><td> TRUE</td><td> 129</td></tr>\n",
       "\t<tr><th scope=row>9</th><td>Gollum </td><td>Hobbit</td><td>FALSE</td><td> TRUE</td><td> 589</td></tr>\n",
       "\t<tr><th scope=row>6</th><td>Gandalf</td><td>Maia  </td><td> TRUE</td><td> TRUE</td><td>2019</td></tr>\n",
       "</tbody>\n",
       "</table>\n"
      ],
      "text/latex": [
       "A data.frame: 6 × 5\n",
       "\\begin{tabular}{r|lllll}\n",
       "  & name & race & in\\_fellowship & ring\\_bearer & age\\\\\n",
       "  & <fct> & <fct> & <lgl> & <lgl> & <dbl>\\\\\n",
       "\\hline\n",
       "\t5 & Sam     & Hobbit &  TRUE &  TRUE &   36\\\\\n",
       "\t3 & Frodo   & Hobbit &  TRUE &  TRUE &   51\\\\\n",
       "\t1 & Aragon  & Men    &  TRUE & FALSE &   88\\\\\n",
       "\t2 & Bilbo   & Hobbit & FALSE &  TRUE &  129\\\\\n",
       "\t9 & Gollum  & Hobbit & FALSE &  TRUE &  589\\\\\n",
       "\t6 & Gandalf & Maia   &  TRUE &  TRUE & 2019\\\\\n",
       "\\end{tabular}\n"
      ],
      "text/markdown": [
       "\n",
       "A data.frame: 6 × 5\n",
       "\n",
       "| <!--/--> | name &lt;fct&gt; | race &lt;fct&gt; | in_fellowship &lt;lgl&gt; | ring_bearer &lt;lgl&gt; | age &lt;dbl&gt; |\n",
       "|---|---|---|---|---|---|\n",
       "| 5 | Sam     | Hobbit |  TRUE |  TRUE |   36 |\n",
       "| 3 | Frodo   | Hobbit |  TRUE |  TRUE |   51 |\n",
       "| 1 | Aragon  | Men    |  TRUE | FALSE |   88 |\n",
       "| 2 | Bilbo   | Hobbit | FALSE |  TRUE |  129 |\n",
       "| 9 | Gollum  | Hobbit | FALSE |  TRUE |  589 |\n",
       "| 6 | Gandalf | Maia   |  TRUE |  TRUE | 2019 |\n",
       "\n"
      ],
      "text/plain": [
       "  name    race   in_fellowship ring_bearer age \n",
       "5 Sam     Hobbit  TRUE          TRUE         36\n",
       "3 Frodo   Hobbit  TRUE          TRUE         51\n",
       "1 Aragon  Men     TRUE         FALSE         88\n",
       "2 Bilbo   Hobbit FALSE          TRUE        129\n",
       "9 Gollum  Hobbit FALSE          TRUE        589\n",
       "6 Gandalf Maia    TRUE          TRUE       2019"
      ]
     },
     "metadata": {},
     "output_type": "display_data"
    }
   ],
   "source": [
    "## Use `head()` to output the first few rows of `sorted_characters_df`\n",
    "head(sorted_characters_df)"
   ]
  },
  {
   "cell_type": "code",
   "execution_count": 37,
   "id": "388b8438-5d70-4891-873e-804027cc00f9",
   "metadata": {
    "tags": []
   },
   "outputs": [],
   "source": [
    "## Select all of the ring bearers from the dataframe and assign it to `ringbearers_df`\n",
    "ringbearers_df <- characters_df[characters_df$ring_bearer == TRUE,]"
   ]
  },
  {
   "cell_type": "code",
   "execution_count": 38,
   "id": "585f4b2f-d840-44b2-8e8c-c6d4c6d47385",
   "metadata": {
    "tags": []
   },
   "outputs": [
    {
     "data": {
      "text/html": [
       "<table>\n",
       "<caption>A data.frame: 6 × 5</caption>\n",
       "<thead>\n",
       "\t<tr><th></th><th scope=col>name</th><th scope=col>race</th><th scope=col>in_fellowship</th><th scope=col>ring_bearer</th><th scope=col>age</th></tr>\n",
       "\t<tr><th></th><th scope=col>&lt;fct&gt;</th><th scope=col>&lt;fct&gt;</th><th scope=col>&lt;lgl&gt;</th><th scope=col>&lt;lgl&gt;</th><th scope=col>&lt;dbl&gt;</th></tr>\n",
       "</thead>\n",
       "<tbody>\n",
       "\t<tr><th scope=row>2</th><td>Bilbo  </td><td>Hobbit</td><td>FALSE</td><td>TRUE</td><td> 129</td></tr>\n",
       "\t<tr><th scope=row>3</th><td>Frodo  </td><td>Hobbit</td><td> TRUE</td><td>TRUE</td><td>  51</td></tr>\n",
       "\t<tr><th scope=row>5</th><td>Sam    </td><td>Hobbit</td><td> TRUE</td><td>TRUE</td><td>  36</td></tr>\n",
       "\t<tr><th scope=row>6</th><td>Gandalf</td><td>Maia  </td><td> TRUE</td><td>TRUE</td><td>2019</td></tr>\n",
       "\t<tr><th scope=row>8</th><td>Sauron </td><td>Maia  </td><td>FALSE</td><td>TRUE</td><td>7052</td></tr>\n",
       "\t<tr><th scope=row>9</th><td>Gollum </td><td>Hobbit</td><td>FALSE</td><td>TRUE</td><td> 589</td></tr>\n",
       "</tbody>\n",
       "</table>\n"
      ],
      "text/latex": [
       "A data.frame: 6 × 5\n",
       "\\begin{tabular}{r|lllll}\n",
       "  & name & race & in\\_fellowship & ring\\_bearer & age\\\\\n",
       "  & <fct> & <fct> & <lgl> & <lgl> & <dbl>\\\\\n",
       "\\hline\n",
       "\t2 & Bilbo   & Hobbit & FALSE & TRUE &  129\\\\\n",
       "\t3 & Frodo   & Hobbit &  TRUE & TRUE &   51\\\\\n",
       "\t5 & Sam     & Hobbit &  TRUE & TRUE &   36\\\\\n",
       "\t6 & Gandalf & Maia   &  TRUE & TRUE & 2019\\\\\n",
       "\t8 & Sauron  & Maia   & FALSE & TRUE & 7052\\\\\n",
       "\t9 & Gollum  & Hobbit & FALSE & TRUE &  589\\\\\n",
       "\\end{tabular}\n"
      ],
      "text/markdown": [
       "\n",
       "A data.frame: 6 × 5\n",
       "\n",
       "| <!--/--> | name &lt;fct&gt; | race &lt;fct&gt; | in_fellowship &lt;lgl&gt; | ring_bearer &lt;lgl&gt; | age &lt;dbl&gt; |\n",
       "|---|---|---|---|---|---|\n",
       "| 2 | Bilbo   | Hobbit | FALSE | TRUE |  129 |\n",
       "| 3 | Frodo   | Hobbit |  TRUE | TRUE |   51 |\n",
       "| 5 | Sam     | Hobbit |  TRUE | TRUE |   36 |\n",
       "| 6 | Gandalf | Maia   |  TRUE | TRUE | 2019 |\n",
       "| 8 | Sauron  | Maia   | FALSE | TRUE | 7052 |\n",
       "| 9 | Gollum  | Hobbit | FALSE | TRUE |  589 |\n",
       "\n"
      ],
      "text/plain": [
       "  name    race   in_fellowship ring_bearer age \n",
       "2 Bilbo   Hobbit FALSE         TRUE         129\n",
       "3 Frodo   Hobbit  TRUE         TRUE          51\n",
       "5 Sam     Hobbit  TRUE         TRUE          36\n",
       "6 Gandalf Maia    TRUE         TRUE        2019\n",
       "8 Sauron  Maia   FALSE         TRUE        7052\n",
       "9 Gollum  Hobbit FALSE         TRUE         589"
      ]
     },
     "metadata": {},
     "output_type": "display_data"
    }
   ],
   "source": [
    "## Use `head()` to output the first few rows of `ringbearers_df`\n",
    "head(ringbearers_df)\n"
   ]
  }
 ],
 "metadata": {
  "kernelspec": {
   "display_name": "R",
   "language": "R",
   "name": "conda-env-r-r"
  },
  "language_info": {
   "codemirror_mode": "r",
   "file_extension": ".r",
   "mimetype": "text/x-r-source",
   "name": "R",
   "pygments_lexer": "r",
   "version": "3.5.1"
  }
 },
 "nbformat": 4,
 "nbformat_minor": 5
}
