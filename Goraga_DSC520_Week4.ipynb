{
 "cells": [
  {
   "cell_type": "markdown",
   "id": "ac87bc76-d319-4767-9bd8-822631b2879a",
   "metadata": {},
   "source": [
    "# DSC520\n",
    "# Assignment Week 4\n",
    "# Zemelak Goraga\n",
    "# 2024-1-6\""
   ]
  },
  {
   "cell_type": "code",
   "execution_count": 1,
   "id": "93655b79-0bb3-4301-b019-554c99504bd1",
   "metadata": {
    "tags": []
   },
   "outputs": [],
   "source": [
    "# Set the working directory to the correct path\n",
    "setwd(\"/resources/labs/R101\")"
   ]
  },
  {
   "cell_type": "code",
   "execution_count": 2,
   "id": "1c5dcdd2-98bf-4d9d-b7a6-ae81836668f4",
   "metadata": {
    "tags": []
   },
   "outputs": [],
   "source": [
    "# Import the dataset scores.csv as df\n",
    "df <- read.csv(\"/resources/labs/R101/scores.csv\")"
   ]
  },
  {
   "cell_type": "code",
   "execution_count": 3,
   "id": "ae8102f4-c52f-4999-91dd-4cf006df3eff",
   "metadata": {
    "tags": []
   },
   "outputs": [
    {
     "data": {
      "text/html": [
       "<table>\n",
       "<caption>A data.frame: 6 × 3</caption>\n",
       "<thead>\n",
       "\t<tr><th></th><th scope=col>Count</th><th scope=col>Score</th><th scope=col>Section</th></tr>\n",
       "\t<tr><th></th><th scope=col>&lt;int&gt;</th><th scope=col>&lt;int&gt;</th><th scope=col>&lt;fct&gt;</th></tr>\n",
       "</thead>\n",
       "<tbody>\n",
       "\t<tr><th scope=row>1</th><td>10</td><td>200</td><td>Sports </td></tr>\n",
       "\t<tr><th scope=row>2</th><td>10</td><td>205</td><td>Sports </td></tr>\n",
       "\t<tr><th scope=row>3</th><td>20</td><td>235</td><td>Sports </td></tr>\n",
       "\t<tr><th scope=row>4</th><td>10</td><td>240</td><td>Sports </td></tr>\n",
       "\t<tr><th scope=row>5</th><td>10</td><td>250</td><td>Sports </td></tr>\n",
       "\t<tr><th scope=row>6</th><td>10</td><td>265</td><td>Regular</td></tr>\n",
       "</tbody>\n",
       "</table>\n"
      ],
      "text/latex": [
       "A data.frame: 6 × 3\n",
       "\\begin{tabular}{r|lll}\n",
       "  & Count & Score & Section\\\\\n",
       "  & <int> & <int> & <fct>\\\\\n",
       "\\hline\n",
       "\t1 & 10 & 200 & Sports \\\\\n",
       "\t2 & 10 & 205 & Sports \\\\\n",
       "\t3 & 20 & 235 & Sports \\\\\n",
       "\t4 & 10 & 240 & Sports \\\\\n",
       "\t5 & 10 & 250 & Sports \\\\\n",
       "\t6 & 10 & 265 & Regular\\\\\n",
       "\\end{tabular}\n"
      ],
      "text/markdown": [
       "\n",
       "A data.frame: 6 × 3\n",
       "\n",
       "| <!--/--> | Count &lt;int&gt; | Score &lt;int&gt; | Section &lt;fct&gt; |\n",
       "|---|---|---|---|\n",
       "| 1 | 10 | 200 | Sports  |\n",
       "| 2 | 10 | 205 | Sports  |\n",
       "| 3 | 20 | 235 | Sports  |\n",
       "| 4 | 10 | 240 | Sports  |\n",
       "| 5 | 10 | 250 | Sports  |\n",
       "| 6 | 10 | 265 | Regular |\n",
       "\n"
      ],
      "text/plain": [
       "  Count Score Section\n",
       "1 10    200   Sports \n",
       "2 10    205   Sports \n",
       "3 20    235   Sports \n",
       "4 10    240   Sports \n",
       "5 10    250   Sports \n",
       "6 10    265   Regular"
      ]
     },
     "metadata": {},
     "output_type": "display_data"
    }
   ],
   "source": [
    "# Display the first few rows of the dataset\n",
    "head(df)"
   ]
  },
  {
   "cell_type": "markdown",
   "id": "bc016c3e-a9b5-49d0-854c-9f659edaaa27",
   "metadata": {},
   "source": [
    "# Question\n",
    "What are the observational units in this study?"
   ]
  },
  {
   "cell_type": "code",
   "execution_count": 8,
   "id": "2c5fa2d6-2e03-4806-bfed-1253903bbf50",
   "metadata": {
    "tags": []
   },
   "outputs": [
    {
     "data": {
      "text/html": [
       "38"
      ],
      "text/latex": [
       "38"
      ],
      "text/markdown": [
       "38"
      ],
      "text/plain": [
       "[1] 38"
      ]
     },
     "metadata": {},
     "output_type": "display_data"
    }
   ],
   "source": [
    "# Function to identify observational units\n",
    "observational_units <- function(df) {\n",
    "  return(nrow(df))\n",
    "}\n",
    "\n",
    "observational_units(df)"
   ]
  },
  {
   "cell_type": "markdown",
   "id": "9a2faf7e-9758-4fb0-8725-745f66dd9ee2",
   "metadata": {},
   "source": [
    "# Answer\n",
    "The observational units in this study are individual students, as indicated by each row (38 rows) in the dataset representing a student's test score. "
   ]
  },
  {
   "cell_type": "markdown",
   "id": "7346d50f-6189-45f2-82c9-37240ce1c043",
   "metadata": {},
   "source": [
    "# Question\n",
    "Identify the variables mentioned in the narrative paragraph and determine which are categorical and quantitative?"
   ]
  },
  {
   "cell_type": "code",
   "execution_count": 26,
   "id": "9ef04f09-53f3-4d40-9bb6-648ebffd0ee3",
   "metadata": {
    "tags": []
   },
   "outputs": [],
   "source": [
    "# Function to identify variables and their types\n",
    "identify_variables <- function(data) {\n",
    "  cat(\"Variables and their types:\\n\")\n",
    "  for (col in names(data)) {\n",
    "    cat(col, \": \", ifelse(is.factor(data[[col]]), \"Categorical\", \"Quantitative\"), \"\\n\")\n",
    "  }\n",
    "}"
   ]
  },
  {
   "cell_type": "markdown",
   "id": "531b8a25-8f9a-4577-8040-8d1682a8ecd0",
   "metadata": {},
   "source": [
    "# Answer\n",
    "\n",
    "Identified Variables are:\n",
    "Count: Quantitative (assuming it represents the number of students with a particular score).\n",
    "Score: Quantitative (the numerical test score).\n",
    "Section: Categorical (identifying the section the student belongs to)."
   ]
  },
  {
   "cell_type": "markdown",
   "id": "c3b5c9dd-58d7-4908-92c9-4b301f24a994",
   "metadata": {
    "tags": []
   },
   "source": [
    "# Question\n",
    "Create one variable to hold a subset of your data set that contains only the Regular Section and one variable for the Sports Section."
   ]
  },
  {
   "cell_type": "code",
   "execution_count": 18,
   "id": "35e4ba95-6eec-4ca5-a6b6-895821a9c5ac",
   "metadata": {
    "tags": []
   },
   "outputs": [],
   "source": [
    "# Function to create variables for Regular and Sports sections\n",
    "create_section_variables <- function(data) {\n",
    "  regular_section <- subset(data, Section == \"Regular\")\n",
    "  sports_section <- subset(data, Section == \"Sports\")\n",
    "  return(list(regular_section = regular_section, sports_section = sports_section))\n",
    "}"
   ]
  },
  {
   "cell_type": "markdown",
   "id": "d7972846-f95e-42bc-be73-4cf0c93a716e",
   "metadata": {},
   "source": [
    "# Answer\n",
    "\n",
    "Created Variables are:\n",
    "Two variables were created to hold subsets of the dataset:\n",
    "\n",
    "Regular Section: Subset of data containing only students from the Regular Section.\n",
    "Sports Section: Subset of data containing only students from the Sports Section."
   ]
  },
  {
   "cell_type": "markdown",
   "id": "bcd0785d-5eb7-4d7a-9ff0-3a0262c45ed9",
   "metadata": {},
   "source": [
    "# Questions\n",
    "\n",
    "Use the Plot function to plot each Sections scores and the number of students achieving that score. Use additional Plot Arguments to label the graph and give each axis an appropriate label. \n",
    "\n",
    "Once you have produced your Plots answer the following questions:\n",
    "\n",
    "Comparing and contrasting the point distributions between the two section, looking at both tendency and consistency: Can you say that one section tended to score more points than the other? Justify and explain your answer.\n",
    "\n",
    "Did every student in one section score more points than every student in the other section? If not, explain what a statistical tendency means in this context.\n",
    "\n",
    "What could be one additional variable that was not mentioned in the narrative that could be influencing the point distributions between the two sections?"
   ]
  },
  {
   "cell_type": "code",
   "execution_count": 19,
   "id": "e36ed25d-ffb4-4d87-b25c-73d6693c515d",
   "metadata": {
    "tags": []
   },
   "outputs": [
    {
     "data": {
      "text/html": [
       "38"
      ],
      "text/latex": [
       "38"
      ],
      "text/markdown": [
       "38"
      ],
      "text/plain": [
       "[1] 38"
      ]
     },
     "metadata": {},
     "output_type": "display_data"
    },
    {
     "name": "stdout",
     "output_type": "stream",
     "text": [
      "Variables and their types:\n",
      "Count :  Quantitative \n",
      "Score :  Quantitative \n",
      "Section :  Categorical \n"
     ]
    },
    {
     "data": {
      "image/png": "[encoded data removed]",
      "text/plain": [
       "Plot with title “Sports Section”"
      ]
     },
     "metadata": {},
     "output_type": "display_data",
     "source": "R display func"
    }
   ],
   "source": [
    "# Function to plot scores and number of students by section\n",
    "plot_scores_by_section <- function(data) {\n",
    "  par(mfrow = c(1, 2))\n",
    "  plot(data$Score[data$Section == \"Regular\"], data$Count[data$Section == \"Regular\"],\n",
    "       main = \"Regular Section\",\n",
    "       xlab = \"Score\",\n",
    "       ylab = \"Number of Students\",\n",
    "       col = \"blue\")\n",
    "  \n",
    "  plot(data$Score[data$Section == \"Sports\"], data$Count[data$Section == \"Sports\"],\n",
    "       main = \"Sports Section\",\n",
    "       xlab = \"Score\",\n",
    "       ylab = \"Number of Students\",\n",
    "       col = \"red\")\n",
    "  \n",
    "  par(mfrow = c(1, 1))  # Reset to single plot layout\n",
    "}\n",
    "\n",
    "# Call the functions\n",
    "observational_units(df)\n",
    "identify_variables(df)\n",
    "sections_data <- create_section_variables(df)\n",
    "plot_scores_by_section(df)"
   ]
  },
  {
   "cell_type": "code",
   "execution_count": 20,
   "id": "57e6b2f9-2320-458f-8eba-deccbfb7c044",
   "metadata": {
    "tags": []
   },
   "outputs": [],
   "source": [
    "# Perform descriptive statistics for each section\n",
    "summary_regular_section <- summary(sections_data$regular_section$Score)\n",
    "summary_sports_section <- summary(sections_data$sports_section$Score)"
   ]
  },
  {
   "cell_type": "code",
   "execution_count": 21,
   "id": "3d1599b6-7cec-4267-bf8a-8f52362e9ee6",
   "metadata": {
    "tags": []
   },
   "outputs": [
    {
     "name": "stdout",
     "output_type": "stream",
     "text": [
      "\n",
      "Summary for Regular Section:\n",
      "   Min. 1st Qu.  Median    Mean 3rd Qu.    Max. \n",
      "  265.0   305.0   325.0   327.6   355.0   380.0 \n"
     ]
    }
   ],
   "source": [
    "# Print the summaries\n",
    "cat(\"\\nSummary for Regular Section:\\n\")\n",
    "print(summary_regular_section)"
   ]
  },
  {
   "cell_type": "code",
   "execution_count": 22,
   "id": "2ff62566-b7b8-4bbe-ac45-dd395a17623c",
   "metadata": {
    "tags": []
   },
   "outputs": [
    {
     "name": "stdout",
     "output_type": "stream",
     "text": [
      "\n",
      "Summary for Sports Section:\n",
      "   Min. 1st Qu.  Median    Mean 3rd Qu.    Max. \n",
      "  200.0   267.5   315.0   307.4   350.0   395.0 \n"
     ]
    }
   ],
   "source": [
    "cat(\"\\nSummary for Sports Section:\\n\")\n",
    "print(summary_sports_section)"
   ]
  },
  {
   "cell_type": "markdown",
   "id": "df953097-c623-4157-b96c-7f07dd2741ab",
   "metadata": {},
   "source": [
    "#Descriptive Statistics:\n",
    "\n",
    "Regular Section:\n",
    "Mean: 327.6\n",
    "Median: 325.0\n",
    "Interquartile Range (IQR): 50.0\n",
    "\n",
    "Sports Section:\n",
    "Mean: 307.4\n",
    "Median: 315.0\n",
    "Interquartile Range (IQR): 82.5\n"
   ]
  },
  {
   "cell_type": "markdown",
   "id": "d43c8ac0-7742-4593-a723-ff55b6bd28dd",
   "metadata": {},
   "source": [
    "# Answers:\n",
    "\n",
    "# Plots\n",
    "\n",
    "Two plots were created to visualize the scores and the number of students in each section. The blue plot represents the Regular Section, and the red plot represents the Sports Section.\n",
    "\n",
    "# Comparing and Contrasting Point Distributions:\n",
    "\n",
    "Tendency:\n",
    "The mean and median scores for the Regular Section are higher than those for the Sports Section, indicating a tendency for students in the Regular Section to score more points on average.\n",
    "\n",
    "Consistency:\n",
    "The IQR for the Sports Section is larger than that for the Regular Section, suggesting greater variability in scores for the Sports Section.\n",
    "\n",
    "# Did every student in one section score more points than every student in the other section?\n",
    "\n",
    "No, not every student in one section scored more points than every student in the other section. While the tendencies suggest that the Regular Section generally scored higher, there is overlap between the two sections. Some students in the Sports Section scored more than some students in the Regular Section.\n",
    "\n",
    "\n",
    "# Explanation of Statistical Tendency:\n",
    "\n",
    "In this context, a statistical tendency means that, on average, students in one section (Regular) tended to score more points than students in the other section (Sports). However, it does not imply that every individual student in the Regular Section scored more than every individual student in the Sports Section. There is variability within each section.\n",
    "\n",
    "\n",
    "# One Additional Variable:\n",
    "\n",
    "An additional variable that could be influencing the point distributions between the two sections is the students' prior experience or interest in the subject matter. For example, if students in the Sports Section have a stronger interest in sports-related applications or prior knowledge in that domain, it might impact their performance compared to students in the Regular Section. This variable could contribute to the observed differences in scores between the two sections.\n",
    "\n",
    "\n",
    "# Insights, Conclusions, and Recommendations:\n",
    "\n",
    "Insights:\n",
    "\n",
    "Students in the Regular Section, on average, scored higher than those in the Sports Section.\n",
    "There is greater variability in scores within the Sports Section.\n",
    "\n",
    "Conclusions:\n",
    "\n",
    "The choice of examples from sports applications might have influenced the performance of students in the Sports Section.\n",
    "Variability within the Sports Section suggests a diverse range of student abilities or interests.\n",
    "\n",
    "Recommendations:\n",
    "\n",
    "Consider exploring the impact of prior knowledge or interest in the subject matter on student performance.\n",
    "Assess the effectiveness of teaching methods in each section and consider adjustments based on the observed performance."
   ]
  },
  {
   "cell_type": "code",
   "execution_count": null,
   "id": "7ada2672-41c8-4f50-858a-a5982c8d89c3",
   "metadata": {},
   "outputs": [],
   "source": []
  }
 ],
 "metadata": {
  "kernelspec": {
   "display_name": "R",
   "language": "R",
   "name": "conda-env-r-r"
  },
  "language_info": {
   "codemirror_mode": "r",
   "file_extension": ".r",
   "mimetype": "text/x-r-source",
   "name": "R",
   "pygments_lexer": "r",
   "version": "3.5.1"
  }
 },
 "nbformat": 4,
 "nbformat_minor": 5
}
